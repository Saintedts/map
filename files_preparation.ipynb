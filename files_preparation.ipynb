{
 "cells": [
  {
   "cell_type": "code",
   "execution_count": 12,
   "metadata": {},
   "outputs": [],
   "source": [
    "import psycopg2\n",
    "import json \n",
    "import geopandas as gpd\n",
    "import folium\n",
    "import pandas as pd\n",
    "from shapely.geometry import Polygon\n",
    "import geopandas\n",
    "import ast\n",
    "from shapely.geometry import Point\n",
    "import shapely\n",
    "from math import inf\n",
    "import geopy.distance as gp"
   ]
  },
  {
   "cell_type": "markdown",
   "metadata": {},
   "source": [
    "# Часть 1"
   ]
  },
  {
   "cell_type": "code",
   "execution_count": 44,
   "metadata": {},
   "outputs": [],
   "source": [
    "connection = psycopg2.connect(user=\"postgres\",\n",
    "                                password=\"postgres\",\n",
    "                                host=\"127.0.0.1\",\n",
    "                                port=\"5432\",\n",
    "                                database=\"map\")                                \n",
    "cursor = connection.cursor()"
   ]
  },
  {
   "cell_type": "code",
   "execution_count": 46,
   "metadata": {},
   "outputs": [],
   "source": [
    "cursor.execute(\"select coordinates from geolocation full outer join object on geolocation.geo_id=object.geo_id where object.type = 1\")\n",
    "record = cursor.fetchall()"
   ]
  },
  {
   "cell_type": "code",
   "execution_count": 47,
   "metadata": {},
   "outputs": [],
   "source": [
    "object_coordinates = []\n",
    "for i in range(0, len(record)):\n",
    "    buff = record[i][0].replace('(', '').replace(')', '')\n",
    "    buff = [float(val) for val in buff.split(',')]\n",
    "    object_coordinates.append(buff[::-1]) "
   ]
  },
  {
   "cell_type": "markdown",
   "metadata": {},
   "source": [
    "**Открытие файла с сеткой 500 на 500 метров по всей России** "
   ]
  },
  {
   "cell_type": "code",
   "execution_count": 73,
   "metadata": {},
   "outputs": [],
   "source": [
    "with open('data/fishnet2021.json') as f: \n",
    "    data = json.load(f)"
   ]
  },
  {
   "cell_type": "markdown",
   "metadata": {},
   "source": [
    "**Создание переменной zid типа список, содержащей список индентификаторов квадратов со сторонами 500 на 500 метров, содержащих информацию о плотности населения**"
   ]
  },
  {
   "cell_type": "code",
   "execution_count": 74,
   "metadata": {},
   "outputs": [],
   "source": [
    "csv = pd.read_csv(\"data/01_CLocation_July.csv\")\n",
    "zid = csv['zid'].tolist()"
   ]
  },
  {
   "cell_type": "code",
   "execution_count": 76,
   "metadata": {},
   "outputs": [
    {
     "data": {
      "text/html": [
       "<div>\n",
       "<style scoped>\n",
       "    .dataframe tbody tr th:only-of-type {\n",
       "        vertical-align: middle;\n",
       "    }\n",
       "\n",
       "    .dataframe tbody tr th {\n",
       "        vertical-align: top;\n",
       "    }\n",
       "\n",
       "    .dataframe thead th {\n",
       "        text-align: right;\n",
       "    }\n",
       "</style>\n",
       "<table border=\"1\" class=\"dataframe\">\n",
       "  <thead>\n",
       "    <tr style=\"text-align: right;\">\n",
       "      <th></th>\n",
       "      <th>zid</th>\n",
       "      <th>customers_cnt_home</th>\n",
       "    </tr>\n",
       "  </thead>\n",
       "  <tbody>\n",
       "    <tr>\n",
       "      <th>0</th>\n",
       "      <td>32909</td>\n",
       "      <td>4</td>\n",
       "    </tr>\n",
       "    <tr>\n",
       "      <th>1</th>\n",
       "      <td>32910</td>\n",
       "      <td>25</td>\n",
       "    </tr>\n",
       "    <tr>\n",
       "      <th>2</th>\n",
       "      <td>33261</td>\n",
       "      <td>2</td>\n",
       "    </tr>\n",
       "    <tr>\n",
       "      <th>3</th>\n",
       "      <td>33262</td>\n",
       "      <td>13</td>\n",
       "    </tr>\n",
       "    <tr>\n",
       "      <th>4</th>\n",
       "      <td>33263</td>\n",
       "      <td>10</td>\n",
       "    </tr>\n",
       "    <tr>\n",
       "      <th>...</th>\n",
       "      <td>...</td>\n",
       "      <td>...</td>\n",
       "    </tr>\n",
       "    <tr>\n",
       "      <th>10235</th>\n",
       "      <td>138913</td>\n",
       "      <td>77</td>\n",
       "    </tr>\n",
       "    <tr>\n",
       "      <th>10236</th>\n",
       "      <td>138914</td>\n",
       "      <td>165</td>\n",
       "    </tr>\n",
       "    <tr>\n",
       "      <th>10237</th>\n",
       "      <td>138915</td>\n",
       "      <td>587</td>\n",
       "    </tr>\n",
       "    <tr>\n",
       "      <th>10238</th>\n",
       "      <td>138916</td>\n",
       "      <td>1206</td>\n",
       "    </tr>\n",
       "    <tr>\n",
       "      <th>10239</th>\n",
       "      <td>139343</td>\n",
       "      <td>75</td>\n",
       "    </tr>\n",
       "  </tbody>\n",
       "</table>\n",
       "<p>10240 rows × 2 columns</p>\n",
       "</div>"
      ],
      "text/plain": [
       "          zid  customers_cnt_home\n",
       "0       32909                   4\n",
       "1       32910                  25\n",
       "2       33261                   2\n",
       "3       33262                  13\n",
       "4       33263                  10\n",
       "...       ...                 ...\n",
       "10235  138913                  77\n",
       "10236  138914                 165\n",
       "10237  138915                 587\n",
       "10238  138916                1206\n",
       "10239  139343                  75\n",
       "\n",
       "[10240 rows x 2 columns]"
      ]
     },
     "execution_count": 76,
     "metadata": {},
     "output_type": "execute_result"
    }
   ],
   "source": [
    "main_table = csv[['zid', 'customers_cnt_home']]\n",
    "main_table"
   ]
  },
  {
   "cell_type": "markdown",
   "metadata": {},
   "source": [
    "**Поиск в файле с Сеткой России номера строк, где квадратики есть в файле с плотность населения**"
   ]
  },
  {
   "cell_type": "code",
   "execution_count": 77,
   "metadata": {},
   "outputs": [],
   "source": [
    "good_i = []\n",
    "for i in range(0, len(data['features'])):\n",
    "    if data['features'][i]['properties']['cell_zid'] in zid:\n",
    "      good_i.append(i)"
   ]
  },
  {
   "cell_type": "markdown",
   "metadata": {},
   "source": [
    "**Создание столбца с координатами зон плоности населения**"
   ]
  },
  {
   "cell_type": "code",
   "execution_count": null,
   "metadata": {},
   "outputs": [],
   "source": [
    "coordinates = []\n",
    "for i in good_i:\n",
    "    coordinates.append(data['features'][i]['geometry']['coordinates'])\n",
    "\n",
    "\n",
    "main_table['coordinates'] = coordinates"
   ]
  },
  {
   "cell_type": "markdown",
   "metadata": {},
   "source": [
    "**Создание столбца с координатами зон плоности населения в формате широта/долгота**"
   ]
  },
  {
   "cell_type": "code",
   "execution_count": 145,
   "metadata": {},
   "outputs": [],
   "source": [
    "coordinates = []\n",
    "for i in range(0,len(main_table)):\n",
    "    lol = []\n",
    "    for j in range(0, len(main_table['coordinates'][i][0])):\n",
    "        buff = main_table['coordinates'][i][0][j]\n",
    "        buff = buff[::-1]\n",
    "        lol.append(buff)\n",
    "    coordinates.append([lol])\n",
    "\n",
    "main_table['reverse_coordinates'] = coordinates"
   ]
  },
  {
   "cell_type": "markdown",
   "metadata": {},
   "source": [
    "**Сохранение датафрейма в формат CSV для дальнейшего ускорения работы**"
   ]
  },
  {
   "cell_type": "code",
   "execution_count": 155,
   "metadata": {},
   "outputs": [],
   "source": [
    "main_table[['zid', 'customers_cnt_home', 'reverse_coordinates', 'coordinates' ]].to_csv('zones_main_table.csv', sep='\\t', encoding='utf-8')"
   ]
  },
  {
   "cell_type": "markdown",
   "metadata": {},
   "source": [
    "**Отрисовка на карте зон плотности населения и объектов инфраструктуры**"
   ]
  },
  {
   "cell_type": "code",
   "execution_count": null,
   "metadata": {},
   "outputs": [],
   "source": [
    "mmap = folium.Map(location=[55.755819, 37.617644],zoom_start = 11)\n",
    "\n",
    "for i in range(0,len(main_table['reverse_coordinates'])):\n",
    "    folium.Polygon(locations=main_table['reverse_coordinates'][i]).add_to(mmap)\n",
    "for object in object_coordinates:\n",
    "    folium.Marker(location=object).add_to(mmap) \n",
    "\n",
    "\n",
    "mmap"
   ]
  },
  {
   "cell_type": "code",
   "execution_count": 54,
   "metadata": {},
   "outputs": [],
   "source": [
    "main_table = pd.read_csv('data/zones_main_table.csv', sep='\\t')"
   ]
  },
  {
   "cell_type": "markdown",
   "metadata": {},
   "source": [
    "**Подсчет количества объектов в каждом секторе**"
   ]
  },
  {
   "cell_type": "code",
   "execution_count": null,
   "metadata": {},
   "outputs": [],
   "source": [
    "contains_object = []\n",
    "for i in range(0, len(main_table)):\n",
    "    count = 0\n",
    "    for object in object_coordinates:\n",
    "        if Polygon(ast.literal_eval(main_table['reverse_coordinates'][i])[0]).contains(Point(object)):\n",
    "            # Можно удалять элемент, который вошел в полигон, чтобы заново его не проверять\n",
    "            count +=1\n",
    "    contains_object.append(count)"
   ]
  },
  {
   "cell_type": "markdown",
   "metadata": {},
   "source": [
    "**Проверка предудщий функции и вывод максимального количества объектов в одном квадрате**"
   ]
  },
  {
   "cell_type": "code",
   "execution_count": 98,
   "metadata": {},
   "outputs": [
    {
     "name": "stdout",
     "output_type": "stream",
     "text": [
      "all good\n",
      "Max in list:  15\n"
     ]
    }
   ],
   "source": [
    "if len(main_table) == len(contains_object):\n",
    "    print('all good')\n",
    "    print('Max in list: ',max(contains_object))\n",
    "    "
   ]
  },
  {
   "cell_type": "markdown",
   "metadata": {},
   "source": [
    "**Добавление результатов функции в дата фрейм**"
   ]
  },
  {
   "cell_type": "code",
   "execution_count": 99,
   "metadata": {},
   "outputs": [],
   "source": [
    "main_table['contains_object_4'] = contains_object"
   ]
  },
  {
   "cell_type": "markdown",
   "metadata": {},
   "source": [
    "**Сохранение финального дата-фрейма в файл .csv**\n"
   ]
  },
  {
   "cell_type": "code",
   "execution_count": 100,
   "metadata": {},
   "outputs": [],
   "source": [
    "main_table[['zid','reverse_coordinates', 'customers_cnt_home', 'contains_object_1', 'contains_object_2', 'contains_object_4' ,'contains_object_5', 'contains_object_6',  'contains_object_7']].to_csv('data/table_for_calculation.csv', sep='\\t', encoding='utf-8')"
   ]
  },
  {
   "cell_type": "markdown",
   "metadata": {},
   "source": [
    "# Часть 2. Подсчет процента населения в квадрате \n"
   ]
  },
  {
   "cell_type": "code",
   "execution_count": 121,
   "metadata": {},
   "outputs": [],
   "source": [
    "main_table = pd.read_csv('data/table_for_calculation.csv', sep='\\t')"
   ]
  },
  {
   "cell_type": "code",
   "execution_count": 122,
   "metadata": {},
   "outputs": [],
   "source": [
    "adm_zones = pd.read_csv('data/adm_zid.csv', sep=';')"
   ]
  },
  {
   "cell_type": "code",
   "execution_count": 123,
   "metadata": {},
   "outputs": [],
   "source": [
    "adm = pd.read_csv('data/01_Location_July.csv', sep=',')"
   ]
  },
  {
   "cell_type": "markdown",
   "metadata": {},
   "source": [
    "Сначала делаем join отношения квадрата к району, потом приравниаем общую плотность к квадрату. Вычисляем процент количества населения в квадрате к общей количеству населения в районе. "
   ]
  },
  {
   "cell_type": "code",
   "execution_count": 124,
   "metadata": {},
   "outputs": [],
   "source": [
    "main_table = main_table.merge(adm_zones['adm_zid'],how='inner', left_on=['zid'], right_on=adm_zones['cell_zid'])\n",
    "main_table = main_table.merge(adm['customers_cnt_home'],how='inner', left_on=main_table['adm_zid'], right_on=adm['zid'])\n",
    "\n",
    "part_of_area = []\n",
    "for i in range(0, len(main_table)):\n",
    "    part_of_area.append((main_table['customers_cnt_home_x'][i] / main_table['customers_cnt_home_y'][i]) * 100)\n",
    "\n",
    "main_table['part_of_customer_cnt_home_in_adm_zone'] = part_of_area\n"
   ]
  },
  {
   "cell_type": "markdown",
   "metadata": {},
   "source": [
    "Переименовываем новые столбцы"
   ]
  },
  {
   "cell_type": "code",
   "execution_count": 131,
   "metadata": {},
   "outputs": [],
   "source": [
    "main_table = main_table.rename(columns={'customers_cnt_home_x': 'customers_cnt_home_in_zone', 'customers_cnt_home_y' : 'customers_cnt_home_in_adm_zone' })"
   ]
  },
  {
   "cell_type": "markdown",
   "metadata": {},
   "source": [
    "Записываем новый в файл"
   ]
  },
  {
   "cell_type": "code",
   "execution_count": 136,
   "metadata": {},
   "outputs": [],
   "source": [
    "main_table[['zid', 'adm_zid', 'reverse_coordinates' ,'customers_cnt_home_in_zone', 'customers_cnt_home_in_adm_zone', 'contains_object_1', 'contains_object_2', 'contains_object_4', 'contains_object_5', 'contains_object_6', 'contains_object_7', 'part_of_customer_cnt_home_in_adm_zone']].to_csv('data/main_table.csv', sep=';', index=False)"
   ]
  },
  {
   "cell_type": "code",
   "execution_count": 138,
   "metadata": {},
   "outputs": [
    {
     "data": {
      "text/html": [
       "<div>\n",
       "<style scoped>\n",
       "    .dataframe tbody tr th:only-of-type {\n",
       "        vertical-align: middle;\n",
       "    }\n",
       "\n",
       "    .dataframe tbody tr th {\n",
       "        vertical-align: top;\n",
       "    }\n",
       "\n",
       "    .dataframe thead th {\n",
       "        text-align: right;\n",
       "    }\n",
       "</style>\n",
       "<table border=\"1\" class=\"dataframe\">\n",
       "  <thead>\n",
       "    <tr style=\"text-align: right;\">\n",
       "      <th></th>\n",
       "      <th>reverse_coordinates</th>\n",
       "      <th>part_of_customer_cnt_home_in_adm_zone</th>\n",
       "      <th>contains_object_1</th>\n",
       "    </tr>\n",
       "  </thead>\n",
       "  <tbody>\n",
       "    <tr>\n",
       "      <th>13085</th>\n",
       "      <td>[[[55.98068138176378, 37.17565563034755], [55....</td>\n",
       "      <td>22.543434</td>\n",
       "      <td>0</td>\n",
       "    </tr>\n",
       "    <tr>\n",
       "      <th>12043</th>\n",
       "      <td>[[[55.82388226205482, 37.583871764065705], [55...</td>\n",
       "      <td>22.518980</td>\n",
       "      <td>0</td>\n",
       "    </tr>\n",
       "    <tr>\n",
       "      <th>13139</th>\n",
       "      <td>[[[55.98068138176378, 37.17565563034755], [55....</td>\n",
       "      <td>20.083220</td>\n",
       "      <td>0</td>\n",
       "    </tr>\n",
       "    <tr>\n",
       "      <th>11825</th>\n",
       "      <td>[[[55.81888364387522, 37.86307788584394], [55....</td>\n",
       "      <td>20.016367</td>\n",
       "      <td>0</td>\n",
       "    </tr>\n",
       "    <tr>\n",
       "      <th>12044</th>\n",
       "      <td>[[[55.82387656396234, 37.59185037784273], [55....</td>\n",
       "      <td>19.120571</td>\n",
       "      <td>0</td>\n",
       "    </tr>\n",
       "    <tr>\n",
       "      <th>...</th>\n",
       "      <td>...</td>\n",
       "      <td>...</td>\n",
       "      <td>...</td>\n",
       "    </tr>\n",
       "    <tr>\n",
       "      <th>4340</th>\n",
       "      <td>[[[55.4731317417051, 37.17192812230983], [55.4...</td>\n",
       "      <td>0.004488</td>\n",
       "      <td>0</td>\n",
       "    </tr>\n",
       "    <tr>\n",
       "      <th>1604</th>\n",
       "      <td>[[[55.30667834703862, 37.08668340405138], [55....</td>\n",
       "      <td>0.004127</td>\n",
       "      <td>0</td>\n",
       "    </tr>\n",
       "    <tr>\n",
       "      <th>1877</th>\n",
       "      <td>[[[55.34235090609285, 37.01537728462635], [55....</td>\n",
       "      <td>0.004127</td>\n",
       "      <td>0</td>\n",
       "    </tr>\n",
       "    <tr>\n",
       "      <th>11994</th>\n",
       "      <td>[[[55.84605941948398, 37.77551583411016], [55....</td>\n",
       "      <td>0.002466</td>\n",
       "      <td>0</td>\n",
       "    </tr>\n",
       "    <tr>\n",
       "      <th>11709</th>\n",
       "      <td>[[[55.84605941948398, 37.77551583411016], [55....</td>\n",
       "      <td>0.000945</td>\n",
       "      <td>0</td>\n",
       "    </tr>\n",
       "  </tbody>\n",
       "</table>\n",
       "<p>13220 rows × 3 columns</p>\n",
       "</div>"
      ],
      "text/plain": [
       "                                     reverse_coordinates  \\\n",
       "13085  [[[55.98068138176378, 37.17565563034755], [55....   \n",
       "12043  [[[55.82388226205482, 37.583871764065705], [55...   \n",
       "13139  [[[55.98068138176378, 37.17565563034755], [55....   \n",
       "11825  [[[55.81888364387522, 37.86307788584394], [55....   \n",
       "12044  [[[55.82387656396234, 37.59185037784273], [55....   \n",
       "...                                                  ...   \n",
       "4340   [[[55.4731317417051, 37.17192812230983], [55.4...   \n",
       "1604   [[[55.30667834703862, 37.08668340405138], [55....   \n",
       "1877   [[[55.34235090609285, 37.01537728462635], [55....   \n",
       "11994  [[[55.84605941948398, 37.77551583411016], [55....   \n",
       "11709  [[[55.84605941948398, 37.77551583411016], [55....   \n",
       "\n",
       "       part_of_customer_cnt_home_in_adm_zone  contains_object_1  \n",
       "13085                              22.543434                  0  \n",
       "12043                              22.518980                  0  \n",
       "13139                              20.083220                  0  \n",
       "11825                              20.016367                  0  \n",
       "12044                              19.120571                  0  \n",
       "...                                      ...                ...  \n",
       "4340                                0.004488                  0  \n",
       "1604                                0.004127                  0  \n",
       "1877                                0.004127                  0  \n",
       "11994                               0.002466                  0  \n",
       "11709                               0.000945                  0  \n",
       "\n",
       "[13220 rows x 3 columns]"
      ]
     },
     "execution_count": 138,
     "metadata": {},
     "output_type": "execute_result"
    }
   ],
   "source": [
    "main_table[['reverse_coordinates', 'part_of_customer_cnt_home_in_adm_zone', 'contains_object_1']].sort_values(by=['part_of_customer_cnt_home_in_adm_zone'], ascending=False)"
   ]
  }
 ],
 "metadata": {
  "interpreter": {
   "hash": "31f2aee4e71d21fbe5cf8b01ff0e069b9275f58929596ceb00d14d90e3e16cd6"
  },
  "kernelspec": {
   "display_name": "Python 3.7.3 64-bit",
   "language": "python",
   "name": "python3"
  },
  "language_info": {
   "codemirror_mode": {
    "name": "ipython",
    "version": 3
   },
   "file_extension": ".py",
   "mimetype": "text/x-python",
   "name": "python",
   "nbconvert_exporter": "python",
   "pygments_lexer": "ipython3",
   "version": "3.7.1"
  },
  "orig_nbformat": 4
 },
 "nbformat": 4,
 "nbformat_minor": 2
}
