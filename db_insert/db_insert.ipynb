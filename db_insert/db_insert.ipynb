{
 "cells": [
  {
   "cell_type": "code",
   "execution_count": 1,
   "metadata": {},
   "outputs": [],
   "source": [
    "import json \n",
    "import psycopg2"
   ]
  },
  {
   "cell_type": "markdown",
   "metadata": {},
   "source": [
    "## Открытие файлов"
   ]
  },
  {
   "cell_type": "code",
   "execution_count": null,
   "metadata": {},
   "outputs": [],
   "source": [
    "with open('data/clinic_adult.json', encoding='windows-1251') as file:\n",
    "    clinic_adult = json.load(file)"
   ]
  },
  {
   "cell_type": "code",
   "execution_count": null,
   "metadata": {},
   "outputs": [],
   "source": [
    "with open('data/clinic_child.json', encoding='windows-1251') as file:\n",
    "    clinic_child = json.load(file)"
   ]
  },
  {
   "cell_type": "code",
   "execution_count": 10,
   "metadata": {},
   "outputs": [],
   "source": [
    "with open('data/culture.json', encoding='windows-1251') as file: \n",
    "    culture = json.load(file)"
   ]
  },
  {
   "cell_type": "code",
   "execution_count": 15,
   "metadata": {},
   "outputs": [],
   "source": [
    "with open('data/ambulance.json', encoding='windows-1251') as file: \n",
    "    ambulance = json.load(file)"
   ]
  },
  {
   "cell_type": "code",
   "execution_count": 22,
   "metadata": {},
   "outputs": [],
   "source": [
    "with open('data/hospital_adult.json', encoding='windows-1251') as file: \n",
    "    hospital_adult = json.load(file)"
   ]
  },
  {
   "cell_type": "code",
   "execution_count": 47,
   "metadata": {},
   "outputs": [],
   "source": [
    "with open('data/hospital_child.json', encoding='windows-1251') as file: \n",
    "    hospital_child = json.load(file)"
   ]
  },
  {
   "cell_type": "code",
   "execution_count": 54,
   "metadata": {},
   "outputs": [],
   "source": [
    "with open('data/sport.json', encoding='windows-1251') as file: \n",
    "    sport = json.load(file)"
   ]
  },
  {
   "cell_type": "code",
   "execution_count": 2,
   "metadata": {},
   "outputs": [],
   "source": [
    "with open('data/education.json', encoding='windows-1251') as file: \n",
    "    education = json.load(file)"
   ]
  },
  {
   "cell_type": "markdown",
   "metadata": {},
   "source": [
    "## Подключаемся к БД"
   ]
  },
  {
   "cell_type": "code",
   "execution_count": 8,
   "metadata": {},
   "outputs": [],
   "source": [
    "connection = psycopg2.connect(user=\"postgres\",\n",
    "                                password=\"postgres\",\n",
    "                                host=\"127.0.0.1\",\n",
    "                                port=\"5432\",\n",
    "                                database=\"map\")                                \n",
    "cursor = connection.cursor()"
   ]
  },
  {
   "cell_type": "code",
   "execution_count": 3,
   "metadata": {},
   "outputs": [
    {
     "name": "stdout",
     "output_type": "stream",
     "text": [
      "[(1, 'Больница'), (2, 'Объект культуры'), (4, 'Образовательное учреждение'), (5, 'Скорая помощь'), (6, 'Спортивный объект'), (7, 'Поликлиника')]\n"
     ]
    }
   ],
   "source": [
    "cursor.execute(\"select * from object_type order by type_id\")\n",
    "record = cursor.fetchall()\n",
    "print(record)"
   ]
  },
  {
   "cell_type": "markdown",
   "metadata": {},
   "source": [
    "## Заполняем БД\n"
   ]
  },
  {
   "cell_type": "code",
   "execution_count": 165,
   "metadata": {},
   "outputs": [],
   "source": [
    "\n",
    "for i in range(0,len(clinic_adult)):\n",
    "    cursor.execute(f\"insert into geolocation (coordinates, address) values ( '{clinic_adult[i]['geoData']['coordinates'][0][0], clinic_adult[i]['geoData']['coordinates'][0][1] }' , '{clinic_adult[i]['ObjectAddress'][0]['Address']}' );\")\n",
    "    cursor.execute(f\"insert into object (name, type) values ('{clinic_adult[i]['FullName']}', 7);\")\n",
    "connection.commit()"
   ]
  },
  {
   "cell_type": "code",
   "execution_count": 175,
   "metadata": {},
   "outputs": [],
   "source": [
    "for i in range(0,len(clinic_child)):\n",
    "    cursor.execute(f\"insert into geolocation (coordinates, address) values ( '{clinic_adult[i]['geoData']['coordinates'][0][0], clinic_adult[i]['geoData']['coordinates'][0][1] }' , '{clinic_adult[i]['ObjectAddress'][0]['Address']}' );\")\n",
    "    cursor.execute(f\"insert into object (name, type) values ('{clinic_adult[i]['FullName']}', 7);\")\n",
    "connection.commit()"
   ]
  },
  {
   "cell_type": "code",
   "execution_count": 21,
   "metadata": {},
   "outputs": [],
   "source": [
    "geo_id = 1065 \n",
    "for i in range(0, len(culture)):\n",
    "    cursor.execute(f\"insert into geolocation (coordinates, address) values ('{culture[i]['geoData']['coordinates'][0], culture[i]['geoData']['coordinates'][1]}', '{culture[i]['Location']}'); \")\n",
    "    cursor.execute(f\"insert into object (name, type, geo_id) values ('{culture[i]['FullName']}',2,{geo_id});\")\n",
    "    geo_id += 1\n",
    "connection.commit()"
   ]
  },
  {
   "cell_type": "code",
   "execution_count": 20,
   "metadata": {},
   "outputs": [],
   "source": [
    "geo_id = 2865\n",
    "for i in range(0, len(ambulance)):\n",
    "    cursor.execute(f\"insert into geolocation (coordinates, address) values ('{ambulance[i]['geoData']['coordinates'][0][0],ambulance[i]['geoData']['coordinates'][0][1]}', '{ambulance[i]['ObjectAddress'][0]['Address']}'); \")\n",
    "    cursor.execute(f\"insert into object (name, type, geo_id) values ('{ambulance[i]['FullName']}',5,{geo_id});\")\n",
    "    geo_id += 1\n",
    "connection.commit()"
   ]
  },
  {
   "cell_type": "code",
   "execution_count": 45,
   "metadata": {},
   "outputs": [],
   "source": [
    "geo_id = 2964\n",
    "for i in range(0, len(hospital_adult)):\n",
    "    cursor.execute(f\"insert into geolocation (coordinates, address) values ('{hospital_adult[i]['geoData']['coordinates'][0][0],hospital_adult[i]['geoData']['coordinates'][0][1]}', '{hospital_adult[i]['ObjectAddress'][0]['Address']}'); \")\n",
    "    cursor.execute(f\"insert into object (name, type, geo_id) values ('{hospital_adult[i]['FullName']}',1,{geo_id});\")\n",
    "    geo_id += 1\n",
    "connection.commit()"
   ]
  },
  {
   "cell_type": "code",
   "execution_count": 52,
   "metadata": {},
   "outputs": [],
   "source": [
    "geo_id = 3008\n",
    "for i in range(0, len(hospital_child)):\n",
    "    cursor.execute(f\"insert into geolocation (coordinates, address) values ('{hospital_child[i]['geoData']['coordinates'][0][0],hospital_child[i]['geoData']['coordinates'][0][1]}', '{hospital_child[i]['ObjectAddress'][0]['Address']}'); \")\n",
    "    cursor.execute(f\"insert into object (name, type, geo_id) values ('{hospital_child[i]['FullName']}',1,{geo_id});\")\n",
    "    geo_id += 1\n",
    "connection.commit()"
   ]
  },
  {
   "cell_type": "code",
   "execution_count": 58,
   "metadata": {},
   "outputs": [],
   "source": [
    "geo_id = 3024\n",
    "for i in range(0, len(sport)):\n",
    "    cursor.execute(f\"insert into geolocation (coordinates, address) values ('{sport[i]['geoData']['coordinates'][0][0],sport[i]['geoData']['coordinates'][0][1]}', '{sport[i]['ObjectAddress'][0]['Address']}'); \")\n",
    "    cursor.execute(f\"insert into object (name, type, geo_id) values ('{sport[i]['FullName']}',6,{geo_id});\")\n",
    "    geo_id += 1\n",
    "connection.commit()"
   ]
  },
  {
   "cell_type": "code",
   "execution_count": 23,
   "metadata": {},
   "outputs": [],
   "source": [
    "geo_id = 3336\n",
    "for i in range(0,len(education)):\n",
    "    for j in range(0,len(education[i]['InstitutionsAddresses'])):\n",
    "        if len(education[i]['InstitutionsAddresses']) == 1:\n",
    "            cursor.execute(f\"insert into geolocation (coordinates, address) values ('{education[i]['geoData']['coordinates'][j][0][0], education[i]['geoData']['coordinates'][j][0][1]}', '{education[i]['InstitutionsAddresses'][j]['Address']}'); \")\n",
    "            cursor.execute(f\"insert into object (name, type, geo_id) values ('{education[i]['InstitutionsAddresses'][j]['FullName']}',4,{geo_id});\")\n",
    "            geo_id += 1\n",
    "        else:\n",
    "            cursor.execute(f\"insert into geolocation (coordinates, address) values ('{education[i]['geoData']['coordinates'][j][0][0][0], education[i]['geoData']['coordinates'][j][0][0][1]}', '{education[i]['InstitutionsAddresses'][j]['Address']}'); \")\n",
    "            cursor.execute(f\"insert into object (name, type, geo_id) values ('{education[i]['InstitutionsAddresses'][j]['FullName']}',4,{geo_id});\")\n",
    "            geo_id += 1\n",
    "connection.commit() \n",
    "\n"
   ]
  },
  {
   "cell_type": "markdown",
   "metadata": {},
   "source": [
    "## Отключаемся от БД"
   ]
  },
  {
   "cell_type": "code",
   "execution_count": 7,
   "metadata": {},
   "outputs": [],
   "source": [
    "cursor.close()\n",
    "connection.close()"
   ]
  }
 ],
 "metadata": {
  "interpreter": {
   "hash": "31f2aee4e71d21fbe5cf8b01ff0e069b9275f58929596ceb00d14d90e3e16cd6"
  },
  "kernelspec": {
   "display_name": "Python 3.7.3 64-bit",
   "language": "python",
   "name": "python3"
  },
  "language_info": {
   "codemirror_mode": {
    "name": "ipython",
    "version": 3
   },
   "file_extension": ".py",
   "mimetype": "text/x-python",
   "name": "python",
   "nbconvert_exporter": "python",
   "pygments_lexer": "ipython3",
   "version": "3.7.1"
  },
  "orig_nbformat": 4
 },
 "nbformat": 4,
 "nbformat_minor": 2
}
